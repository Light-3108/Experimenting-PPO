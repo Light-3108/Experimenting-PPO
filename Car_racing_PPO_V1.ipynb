{
  "nbformat": 4,
  "nbformat_minor": 0,
  "metadata": {
    "colab": {
      "provenance": [],
      "gpuType": "T4"
    },
    "kernelspec": {
      "name": "python3",
      "display_name": "Python 3"
    },
    "language_info": {
      "name": "python"
    },
    "accelerator": "GPU"
  },
  "cells": [
    {
      "cell_type": "code",
      "execution_count": null,
      "metadata": {
        "colab": {
          "base_uri": "https://localhost:8080/"
        },
        "id": "jgaLiRMO2OS8",
        "outputId": "0e02f091-ee0c-4d47-f94b-ec881bc2f601"
      },
      "outputs": [
        {
          "output_type": "stream",
          "name": "stdout",
          "text": [
            "Collecting swig\n",
            "  Downloading swig-4.3.1-py3-none-manylinux_2_12_x86_64.manylinux2010_x86_64.whl.metadata (3.5 kB)\n",
            "Downloading swig-4.3.1-py3-none-manylinux_2_12_x86_64.manylinux2010_x86_64.whl (1.9 MB)\n",
            "\u001b[?25l   \u001b[90m━━━━━━━━━━━━━━━━━━━━━━━━━━━━━━━━━━━━━━━━\u001b[0m \u001b[32m0.0/1.9 MB\u001b[0m \u001b[31m?\u001b[0m eta \u001b[36m-:--:--\u001b[0m\r\u001b[2K   \u001b[91m━━━━━━━━━\u001b[0m\u001b[91m╸\u001b[0m\u001b[90m━━━━━━━━━━━━━━━━━━━━━━━━━━━━━━\u001b[0m \u001b[32m0.5/1.9 MB\u001b[0m \u001b[31m13.7 MB/s\u001b[0m eta \u001b[36m0:00:01\u001b[0m\r\u001b[2K   \u001b[90m━━━━━━━━━━━━━━━━━━━━━━━━━━━━━━━━━━━━━━━━\u001b[0m \u001b[32m1.9/1.9 MB\u001b[0m \u001b[31m29.3 MB/s\u001b[0m eta \u001b[36m0:00:00\u001b[0m\n",
            "\u001b[?25hInstalling collected packages: swig\n",
            "Successfully installed swig-4.3.1\n",
            "Requirement already satisfied: gymnasium[box2d] in /usr/local/lib/python3.11/dist-packages (1.2.0)\n",
            "Requirement already satisfied: numpy>=1.21.0 in /usr/local/lib/python3.11/dist-packages (from gymnasium[box2d]) (2.0.2)\n",
            "Requirement already satisfied: cloudpickle>=1.2.0 in /usr/local/lib/python3.11/dist-packages (from gymnasium[box2d]) (3.1.1)\n",
            "Requirement already satisfied: typing-extensions>=4.3.0 in /usr/local/lib/python3.11/dist-packages (from gymnasium[box2d]) (4.14.1)\n",
            "Requirement already satisfied: farama-notifications>=0.0.1 in /usr/local/lib/python3.11/dist-packages (from gymnasium[box2d]) (0.0.4)\n",
            "Collecting box2d-py==2.3.5 (from gymnasium[box2d])\n",
            "  Downloading box2d-py-2.3.5.tar.gz (374 kB)\n",
            "\u001b[2K     \u001b[90m━━━━━━━━━━━━━━━━━━━━━━━━━━━━━━━━━━━━━━\u001b[0m \u001b[32m374.4/374.4 kB\u001b[0m \u001b[31m12.1 MB/s\u001b[0m eta \u001b[36m0:00:00\u001b[0m\n",
            "\u001b[?25h  Preparing metadata (setup.py) ... \u001b[?25l\u001b[?25hdone\n",
            "Requirement already satisfied: pygame>=2.1.3 in /usr/local/lib/python3.11/dist-packages (from gymnasium[box2d]) (2.6.1)\n",
            "Requirement already satisfied: swig==4.* in /usr/local/lib/python3.11/dist-packages (from gymnasium[box2d]) (4.3.1)\n",
            "Building wheels for collected packages: box2d-py\n",
            "  Building wheel for box2d-py (setup.py) ... \u001b[?25l\u001b[?25hdone\n",
            "  Created wheel for box2d-py: filename=box2d_py-2.3.5-cp311-cp311-linux_x86_64.whl size=2379363 sha256=ff690fa7f364970eb4f45e60ab1aab02814e44c6f5f8ab5d363ef940c81eede5\n",
            "  Stored in directory: /root/.cache/pip/wheels/ab/f1/0c/d56f4a2bdd12bae0a0693ec33f2f0daadb5eb9753c78fa5308\n",
            "Successfully built box2d-py\n",
            "Installing collected packages: box2d-py\n",
            "Successfully installed box2d-py-2.3.5\n"
          ]
        }
      ],
      "source": [
        "!pip install swig\n",
        "!pip install gymnasium[box2d]"
      ]
    },
    {
      "cell_type": "code",
      "source": [
        "!pip install imageio"
      ],
      "metadata": {
        "colab": {
          "base_uri": "https://localhost:8080/"
        },
        "id": "Bl57FAI4KEeI",
        "outputId": "4df4c3d6-f253-431a-c074-b86506b677d9"
      },
      "execution_count": null,
      "outputs": [
        {
          "output_type": "stream",
          "name": "stdout",
          "text": [
            "Requirement already satisfied: imageio in /usr/local/lib/python3.11/dist-packages (2.37.0)\n",
            "Requirement already satisfied: numpy in /usr/local/lib/python3.11/dist-packages (from imageio) (2.0.2)\n",
            "Requirement already satisfied: pillow>=8.3.2 in /usr/local/lib/python3.11/dist-packages (from imageio) (11.2.1)\n"
          ]
        }
      ]
    },
    {
      "cell_type": "code",
      "source": [
        "import math\n",
        "import random\n",
        "import cv2\n",
        "import gymnasium as gym\n",
        "import imageio\n",
        "\n",
        "import numpy as np\n",
        "import time\n",
        "import torch\n",
        "import torch.nn as nn\n",
        "\n",
        "import torch.optim as optim\n",
        "import torch.nn.functional as F\n",
        "from torch.distributions import Normal, Categorical\n",
        "from IPython.display import clear_output\n",
        "import matplotlib.pyplot as plt\n",
        "\n",
        "from collections import deque"
      ],
      "metadata": {
        "id": "2fn8xv0L2VUd"
      },
      "execution_count": null,
      "outputs": []
    },
    {
      "cell_type": "code",
      "source": [
        "device = torch.device(0 if torch.cuda.is_available() else \"cpu\")"
      ],
      "metadata": {
        "id": "qGiYm7on4S8A"
      },
      "execution_count": null,
      "outputs": []
    },
    {
      "cell_type": "code",
      "source": [],
      "metadata": {
        "id": "6keVEdL14V6N"
      },
      "execution_count": null,
      "outputs": []
    },
    {
      "cell_type": "code",
      "source": [],
      "metadata": {
        "id": "kvq5mFcoDyad"
      },
      "execution_count": null,
      "outputs": []
    },
    {
      "cell_type": "code",
      "source": [
        "# Network Architecture|\n",
        "class ImpalaCnn64(nn.Module):\n",
        "    def __init__(self, in_channels, num_outputs, base_channels=16):\n",
        "        super(ImpalaCnn64, self).__init__()\n",
        "        self.conv_block1 = nn.Conv2d(in_channels, base_channels, 3, 4, 0)\n",
        "        self.conv_block2 = nn.Conv2d(base_channels, 2*base_channels, 3, 2, 0)\n",
        "\n",
        "        flatten = 2*base_channels*7*7\n",
        "        self.fc1 = nn.Linear(flatten, 256)\n",
        "        self.actor = nn.Linear(256, num_outputs)\n",
        "        self.critic = nn.Linear(256, 1)\n",
        "        self.relu = nn.ReLU()\n",
        "\n",
        "    def forward(self, x):\n",
        "\n",
        "        x = F.relu(self.conv_block1(x))  # [B,1,64,64] -> [B,16, h, w]\n",
        "        x = F.relu(self.conv_block2(x))  # [B,16,h,w]  -> [B,32,h,w]\n",
        "        x = x.reshape(x.size(0), -1)     # [B,32*h*w]\n",
        "        x = self.relu(self.fc1(x))       # [B,256]\n",
        "\n",
        "        #critic\n",
        "        value = self.critic(x)           # [B,1]\n",
        "\n",
        "        # Actor\n",
        "        dist = Categorical(logits=self.actor(x)) #[B,5]\n",
        "\n",
        "        return dist, value"
      ],
      "metadata": {
        "id": "9MK6dc1G4jR9"
      },
      "execution_count": null,
      "outputs": []
    },
    {
      "cell_type": "code",
      "source": [
        "def set_seed(seed, env):\n",
        "    random.seed(seed)\n",
        "    np.random.seed(seed)\n",
        "    torch.manual_seed(seed)\n",
        "    if torch.cuda.is_available():\n",
        "        torch.cuda.manual_seed(seed)\n",
        "        torch.cuda.manual_seed_all(seed)\n",
        "    env.action_space.seed(seed)"
      ],
      "metadata": {
        "id": "_b8RO5ZsLMQj"
      },
      "execution_count": null,
      "outputs": []
    },
    {
      "cell_type": "code",
      "source": [
        "#buffer\n",
        "class ReplayBuffer:\n",
        "    def __init__(self, data_names, buffer_size, mini_batch_size, device):\n",
        "        self.data_keys = data_names\n",
        "\n",
        "\n",
        "        # {'states': deque(...), 'actions': deque(...)}\n",
        "        self.data_dict = {}\n",
        "\n",
        "        self.buffer_size = buffer_size\n",
        "        self.mini_batch_size = mini_batch_size\n",
        "        self.device = device\n",
        "\n",
        "        self.reset()\n",
        "\n",
        "    def reset(self):\n",
        "\n",
        "        # Each key ko deque banako\n",
        "        for name in self.data_keys:\n",
        "            self.data_dict[name] = deque(maxlen=self.buffer_size)\n",
        "\n",
        "    def buffer_full(self):\n",
        "        return len(self.data_dict[self.data_keys[0]]) == self.buffer_size\n",
        "\n",
        "    def data_log(self, data_name, data):   # collect data and add\n",
        "\n",
        "        data = data.cpu().split(1)\n",
        "        self.data_dict[data_name].extend(data)\n",
        "\n",
        "    def __iter__(self):\n",
        "\n",
        "\n",
        "        batch_size = len(self.data_dict[self.data_keys[0]])\n",
        "        batch_size = batch_size - batch_size % self.mini_batch_size\n",
        "\n",
        "\n",
        "        ids = np.random.permutation(batch_size)\n",
        "        ids = np.split(ids, batch_size // self.mini_batch_size)\n",
        "\n",
        "\n",
        "        for i in range(len(ids)):\n",
        "\n",
        "            batch_dict = {}\n",
        "\n",
        "            for name in self.data_keys:\n",
        "                c = [self.data_dict[name][j] for j in ids[i]]\n",
        "                batch_dict[name] = torch.cat(c).to(self.device)\n",
        "\n",
        "\n",
        "            batch_dict[\"batch_size\"] = len(ids[i])\n",
        "            yield batch_dict\n",
        "\n",
        "    def __len__(self):\n",
        "        return len(self.data_dict[self.data_keys[0]])"
      ],
      "metadata": {
        "id": "GPTG3PCW5sF1"
      },
      "execution_count": null,
      "outputs": []
    },
    {
      "cell_type": "code",
      "source": [],
      "metadata": {
        "id": "eqU2KPIUE_Gl"
      },
      "execution_count": null,
      "outputs": []
    },
    {
      "cell_type": "code",
      "source": [
        "def state_to_tensor(obs, device, resize_shape=(64, 64)): #[96,96,3]\n",
        "  obs = cv2.resize(obs, resize_shape, interpolation=cv2.INTER_LINEAR)\n",
        "  obs = cv2.cvtColor(obs, cv2.COLOR_BGR2GRAY)\n",
        "  obs = obs / 255.\n",
        "  obs = torch.tensor(obs, dtype=torch.float32, device = device)\n",
        "  return obs.unsqueeze(0)  #[64,64]\n",
        "\n",
        "def tensor_to_unit8(tesnor):\n",
        "    numpy_float = tesnor.squeeze(0).cpu().numpy().transpose((1, 2, 0))\n",
        "    return (numpy_float * 255).astype(np.uint8)\n",
        "\n",
        "def evaluate_agent(env, rl_model, device, n_episodes=3):\n",
        "\n",
        "    # run 3 episodes, return average score.\n",
        "    rl_model.eval()\n",
        "    total_rewards = []\n",
        "    for _ in range(n_episodes):\n",
        "        obs, _ = env.reset()\n",
        "        done = False\n",
        "        episode_reward = 0\n",
        "        while not done:\n",
        "            state = state_to_tensor(obs, device).unsqueeze(0)\n",
        "            with torch.no_grad():\n",
        "                dist, _ = rl_model(state)\n",
        "                # do i need to add stocasticity here? is sampling better?\n",
        "                action = torch.argmax(dist.probs).item()\n",
        "            obs, reward, terminated, truncated, _ = env.step(action)\n",
        "            done = terminated or truncated\n",
        "            episode_reward += reward\n",
        "        total_rewards.append(episode_reward)\n",
        "    rl_model.train()  # not needed\n",
        "    return np.mean(total_rewards)"
      ],
      "metadata": {
        "id": "VOS0asgk6KpE"
      },
      "execution_count": null,
      "outputs": []
    },
    {
      "cell_type": "code",
      "source": [
        "def ppo_loss(new_dist, actions, old_log_probs, advantages, clip_param): # input: new_dist, model update vaepaxi ko [MB,5](categorical)\n",
        "\n",
        "    new_log_probs = new_dist.log_prob(actions)  # [MB] hamro action ko log prob. on new dist.\n",
        "    ratio = (new_log_probs - old_log_probs).exp()\n",
        "    surr1 = ratio * advantages                  # [MB]\n",
        "    surr2 = torch.clamp(ratio, 1.0 - clip_param, 1.0 + clip_param) * advantages\n",
        "    actor_loss = torch.min(surr1, surr2)        # [MB]\n",
        "    return actor_loss.mean()\n"
      ],
      "metadata": {
        "id": "b6ToBnNb6gdj"
      },
      "execution_count": null,
      "outputs": []
    },
    {
      "cell_type": "code",
      "source": [
        "def clipped_critic_loss(new_value, old_value, returns, clip_param):\n",
        "    vf_loss1 = (new_value - returns).pow(2.)\n",
        "    vpredclipped = old_value + torch.clamp(new_value - old_value, -clip_param, clip_param)\n",
        "    vf_loss2 = (vpredclipped - returns).pow(2.)\n",
        "    critic_loss = torch.max(vf_loss1, vf_loss2)\n",
        "    return critic_loss.mean()"
      ],
      "metadata": {
        "id": "B0m3zC2w6-U6"
      },
      "execution_count": null,
      "outputs": []
    },
    {
      "cell_type": "code",
      "source": [
        "def compute_gae(next_value, rewards, masks, values, gamma=0.999, tau=0.95): # input -> reward[1000,1]\n",
        "    gae = 0\n",
        "    returns = deque()\n",
        "    gae_logger = deque()\n",
        "\n",
        "    for step in reversed(range(len(rewards))):\n",
        "\n",
        "        delta = rewards[step] + gamma * next_value * masks[step] - values[step]\n",
        "\n",
        "\n",
        "        gae = delta + gamma * tau * masks[step] * gae\n",
        "        next_value = values[step]\n",
        "        returns.appendleft(gae + values[step])\n",
        "        gae_logger.appendleft(gae)\n",
        "\n",
        "    return returns, gae_logger"
      ],
      "metadata": {
        "id": "U-aJqndG72SS"
      },
      "execution_count": null,
      "outputs": []
    },
    {
      "cell_type": "code",
      "source": [],
      "metadata": {
        "id": "cpaLz4Q5qXbO"
      },
      "execution_count": null,
      "outputs": []
    },
    {
      "cell_type": "code",
      "source": [],
      "metadata": {
        "id": "9DSb-HPVn3ns"
      },
      "execution_count": null,
      "outputs": []
    },
    {
      "cell_type": "code",
      "source": [],
      "metadata": {
        "id": "B5PR5xxoqac1"
      },
      "execution_count": null,
      "outputs": []
    },
    {
      "cell_type": "code",
      "source": [
        "def ppo_update(data_buffer, ppo_epochs, clip_param, rl_model, optimizer):  #input # databuffer vitra state : [1000,1,64,64]\n",
        "    for _ in range(ppo_epochs):\n",
        "        for data_batch in data_buffer:\n",
        "\n",
        "            new_dist, new_value = rl_model(data_batch[\"states\"]) #[MB,5] & [MB,1]  #i think gradient updates happens here, from loss.\n",
        "            entropy = new_dist.entropy().mean()\n",
        "\n",
        "            actor_loss = ppo_loss(new_dist, data_batch[\"actions\"], data_batch[\"log_probs\"], data_batch[\"advantages\"],  # input: new_dist, model update vaepaxi ko [MB,5](categorical)\n",
        "                                  clip_param)\n",
        "\n",
        "            critic_loss = clipped_critic_loss(new_value, data_batch[\"values\"], data_batch[\"returns\"], clip_param) #input: new values [MB,1]\n",
        "\n",
        "            agent_loss = critic_loss - actor_loss - 0.01 * entropy   #alpha * entropy, (encourage exploraton)\n",
        "\n",
        "            # what if agent_loss = critic_loss - actor_loss - alpha*(entropy(state_visit_distribution))?\n",
        "\n",
        "            optimizer.zero_grad()\n",
        "            agent_loss.backward()\n",
        "            nn.utils.clip_grad_norm_(rl_model.parameters(), 40)\n",
        "            optimizer.step()"
      ],
      "metadata": {
        "id": "el_jF2FuGpuW"
      },
      "execution_count": null,
      "outputs": []
    },
    {
      "cell_type": "code",
      "source": [
        "# torch1 = torch.ones(10,5)\n",
        "# dist = Categorical(torch.tensor(torch1))\n",
        "# dist.entropy().mean()\n",
        "# dist = Categorical(torch.tensor([[0,0,0,0,1]]))\n",
        "# log_prob = dist.log_prob(torch.tensor([3]))\n",
        "# print(log_prob)"
      ],
      "metadata": {
        "id": "EjCajltN63dz"
      },
      "execution_count": null,
      "outputs": []
    },
    {
      "cell_type": "code",
      "source": [
        "seeds = [42, 123]\n",
        "\n",
        "# Training parameters\n",
        "max_frames = 25000\n",
        "lr = 5e-4\n",
        "num_steps = 256\n",
        "ppo_epochs = 4\n",
        "num_mini_batch = 8\n",
        "eval_interval = 5\n",
        "\n",
        "# PPO parameters\n",
        "gamma = 0.99\n",
        "tau = 0.95\n",
        "clip_param = 0.2\n",
        "\n",
        "# Buffer and data storage\n",
        "buffer_size = num_steps\n",
        "mini_batch_size = buffer_size // num_mini_batch\n",
        "all_runs_rewards = []\n",
        "all_runs_frames = []"
      ],
      "metadata": {
        "id": "4gEDkFP8G1XK"
      },
      "execution_count": null,
      "outputs": []
    },
    {
      "cell_type": "code",
      "source": [
        "# 1000 = 2048*8\n",
        "env_name = 'CarRacing-v3'"
      ],
      "metadata": {
        "id": "VPMbaz6BJeVq"
      },
      "execution_count": null,
      "outputs": []
    },
    {
      "cell_type": "code",
      "source": [
        "for seed in seeds:\n",
        "\n",
        "  print(f\" training for seed: {seed} \")\n",
        "  env = gym.make(env_name, render_mode=\"rgb_array\", lap_complete_percent=0.95, domain_randomize=False, continuous=False)\n",
        "  set_seed(seed, env)\n",
        "\n",
        "  rl_model = ImpalaCnn64(1, 5).to(device)\n",
        "  optimizer = optim.Adam(rl_model.parameters(), lr=lr)\n",
        "\n",
        "  data_names = [\"states\", \"actions\", \"log_probs\", \"values\", \"returns\", \"advantages\"]\n",
        "  data_buffer = ReplayBuffer(data_names, buffer_size, mini_batch_size, device)\n",
        "  frames_seen = 0\n",
        "  rollouts = 0\n",
        "  start_time = time.time()\n",
        "\n",
        "  run_rewards = []\n",
        "  run_frames = []\n",
        "\n",
        "  while frames_seen < max_frames:\n",
        "      rl_model.train()\n",
        "      # Initialise state\n",
        "      start_state,_ = env.reset()     #[96,96,3]\n",
        "      state = state_to_tensor(start_state, device) #[1,64,64]            #[64,3,64,64]\n",
        "      state = state.unsqueeze(0)                   #[1,1,64,64]\n",
        "\n",
        "      # data loggers\n",
        "      log_probs = deque()\n",
        "      values = deque()\n",
        "      states = deque()\n",
        "      actions = deque()\n",
        "      rewards = deque()\n",
        "      masks = deque()\n",
        "      step = 0\n",
        "      done = 0\n",
        "\n",
        "      print(\"Rollout!\")\n",
        "      with torch.no_grad():          # yeti garepaxi advantages (constants at the time of ppo update) etc haru bata gradient flow hunna hola mathi samma.\n",
        "          while step < num_steps:\n",
        "\n",
        "              dist, value = rl_model(state) #[1,action_size],[1,1]\n",
        "              action = dist.sample() #[1]\n",
        "              next_state, reward, done, env_info,_ = env.step(action.detach().cpu().item()) #next_state = [1,96,96,3], reward, done = [1]\n",
        "\n",
        "              # Log data\n",
        "              log_prob = dist.log_prob(action) #[_,1]\n",
        "              log_probs.append(log_prob) #[_,1]\n",
        "              states.append(state)       #[_,1]\n",
        "              actions.append(action)     #[_,1]\n",
        "              values.append(value)       #[1000,1]\n",
        "              rewards.append(reward) #[1000,1]\n",
        "              current_mask = torch.tensor([0.0 if done else 1.0], dtype = torch.float32).to(device) #[1]\n",
        "              masks.append(current_mask) #[1000,1]\n",
        "              step += 1\n",
        "\n",
        "              if done:\n",
        "                start_state,_ = env.reset()\n",
        "                state = state_to_tensor(start_state, device)\n",
        "                state = state.unsqueeze(0)\n",
        "                break\n",
        "                continue\n",
        "\n",
        "              state = state_to_tensor(next_state, device) #[1,1,64,64]\n",
        "              state = state.unsqueeze(0) #[1,1,64,64]\n",
        "\n",
        "\n",
        "\n",
        "          # value at time step t+1\n",
        "          _, next_value = rl_model(state)   # [1,1]\n",
        "\n",
        "          # returns/gae\n",
        "          returns, advantage = compute_gae(next_value, rewards, masks, values, gamma=gamma, tau=tau) #input -> reward[1000,1], output -> [1000,1]\n",
        "\n",
        "          data_buffer.data_log(\"states\", torch.cat(list(states)))   #[1000,1,64,64]\n",
        "          data_buffer.data_log(\"actions\", torch.cat(list(actions))) #[1000]\n",
        "          data_buffer.data_log(\"returns\", torch.cat(list(returns))) #[1000]\n",
        "          data_buffer.data_log(\"log_probs\", torch.cat(list(log_probs))) #[1000]  hamle leko actions ko log prob, so 1(euta matra hune vayo)\n",
        "          data_buffer.data_log(\"values\", torch.cat(list(values))) #[1000]\n",
        "\n",
        "          advantage = torch.cat(list(advantage)).squeeze(1)  ##[1000,1] --> squeeze ---> [1000]\n",
        "\n",
        "          # normalising the Advantage le training stable hunxa\n",
        "          data_buffer.data_log(\"advantages\", (advantage - advantage.mean()) / (advantage.std() + 1e-8))  #[1000]\n",
        "\n",
        "          frames_seen += advantage.shape[0]  #yo vaneko frames_seen += 1000\n",
        "\n",
        "\n",
        "      # can use multiple epoches for same data in ppo, kina ki we do clipping? unlike policy gradient, X/Y * A,  X need not to be old policy\n",
        "      # so we can do multiple epoches. (i think)\n",
        "\n",
        "      print(\"Training\")\n",
        "      ppo_update(data_buffer, ppo_epochs, clip_param, rl_model, optimizer)  # databuffer vitra state : [1000,1,64,64]\n",
        "      rollouts += 1\n",
        "\n",
        "\n",
        "      if rollouts % eval_interval == 0:\n",
        "        print(\"Evaluating\")\n",
        "        rl_model.eval()\n",
        "        with torch.no_grad():\n",
        "\n",
        "          avg_score = evaluate_agent(env, rl_model, device)\n",
        "          run_rewards.append(avg_score)\n",
        "          run_frames.append(frames_seen)\n",
        "\n",
        "          clear_output(wait=True)\n",
        "          time_elapsed = time.time() - start_time\n",
        "          time_per_frame = time_elapsed / frames_seen if frames_seen > 0 else 0\n",
        "          time_to_end = time_per_frame * (max_frames - frames_seen)\n",
        "\n",
        "          print(f\"Seed: {seed}/{seeds[-1]} | Frames: {frames_seen}/{max_frames}\")\n",
        "          print(f\"Rollout: {rollouts} | Avg. Reward: {avg_score:.2f}\")\n",
        "          print(f\"Time Elapsed: {time_elapsed/60:.2f}m | Est. Time Left: {time_to_end/60:.2f}m\")\n",
        "\n",
        "\n",
        "  all_runs_rewards.append(run_rewards)\n",
        "  all_runs_frames.append(run_frames)\n",
        "  env.close()\n",
        "\n",
        "  # save seed model\n",
        "  torch.save(rl_model.state_dict(), f\"rl_model_seed_{seed}.pth\")\n",
        "  from google.colab import files\n",
        "  files.download(f\"rl_model_seed_{seed}.pth\")\n",
        "  print(f\" training finsihed for seed {seed}. saved!\")\n",
        "\n",
        "print(\"Done!\")"
      ],
      "metadata": {
        "id": "53lQtuXHG37L",
        "colab": {
          "base_uri": "https://localhost:8080/",
          "height": 208
        },
        "outputId": "5cf1b54a-80f1-43b2-b1d3-34c56413e445"
      },
      "execution_count": null,
      "outputs": [
        {
          "output_type": "stream",
          "name": "stdout",
          "text": [
            "Seed: 123/123 | Frames: 24320/25000\n",
            "Rollout: 95 | Avg. Reward: 160.36\n",
            "Time Elapsed: 13.10m | Est. Time Left: 0.37m\n",
            "Rollout!\n",
            "Training\n",
            "Rollout!\n",
            "Training\n",
            "Rollout!\n",
            "Training\n"
          ]
        },
        {
          "output_type": "display_data",
          "data": {
            "text/plain": [
              "<IPython.core.display.Javascript object>"
            ],
            "application/javascript": [
              "\n",
              "    async function download(id, filename, size) {\n",
              "      if (!google.colab.kernel.accessAllowed) {\n",
              "        return;\n",
              "      }\n",
              "      const div = document.createElement('div');\n",
              "      const label = document.createElement('label');\n",
              "      label.textContent = `Downloading \"${filename}\": `;\n",
              "      div.appendChild(label);\n",
              "      const progress = document.createElement('progress');\n",
              "      progress.max = size;\n",
              "      div.appendChild(progress);\n",
              "      document.body.appendChild(div);\n",
              "\n",
              "      const buffers = [];\n",
              "      let downloaded = 0;\n",
              "\n",
              "      const channel = await google.colab.kernel.comms.open(id);\n",
              "      // Send a message to notify the kernel that we're ready.\n",
              "      channel.send({})\n",
              "\n",
              "      for await (const message of channel.messages) {\n",
              "        // Send a message to notify the kernel that we're ready.\n",
              "        channel.send({})\n",
              "        if (message.buffers) {\n",
              "          for (const buffer of message.buffers) {\n",
              "            buffers.push(buffer);\n",
              "            downloaded += buffer.byteLength;\n",
              "            progress.value = downloaded;\n",
              "          }\n",
              "        }\n",
              "      }\n",
              "      const blob = new Blob(buffers, {type: 'application/binary'});\n",
              "      const a = document.createElement('a');\n",
              "      a.href = window.URL.createObjectURL(blob);\n",
              "      a.download = filename;\n",
              "      div.appendChild(a);\n",
              "      a.click();\n",
              "      div.remove();\n",
              "    }\n",
              "  "
            ]
          },
          "metadata": {}
        },
        {
          "output_type": "display_data",
          "data": {
            "text/plain": [
              "<IPython.core.display.Javascript object>"
            ],
            "application/javascript": [
              "download(\"download_153a84f8-987f-46bf-9f25-b8978eceddcd\", \"rl_model_seed_123.pth\", 1636036)"
            ]
          },
          "metadata": {}
        },
        {
          "output_type": "stream",
          "name": "stdout",
          "text": [
            " training finsihed for seed 123. saved!\n",
            "Done!\n"
          ]
        }
      ]
    },
    {
      "cell_type": "code",
      "source": [
        "def plot_results(all_rewards, all_frames):\n",
        "    # Ensure all reward lists have the same length for averaging\n",
        "    # This can happen if runs terminate at slightly different frame counts\n",
        "    min_len = min(len(rewards) for rewards in all_rewards)\n",
        "    rewards_trimmed = [rewards[:min_len] for rewards in all_rewards]\n",
        "    frames = all_frames[0][:min_len]\n",
        "\n",
        "    rewards_np = np.array(rewards_trimmed)\n",
        "\n",
        "    # Calculate mean and standard deviation across runs\n",
        "    mean_rewards = np.mean(rewards_np, axis=0)\n",
        "    std_rewards = np.std(rewards_np, axis=0)\n",
        "\n",
        "    plt.figure(figsize=(12, 6))\n",
        "    # Plot the mean reward line\n",
        "    plt.plot(frames, mean_rewards, label='Mean Reward', color='blue')\n",
        "    # Plot the standard deviation area\n",
        "    plt.fill_between(frames, mean_rewards - std_rewards, mean_rewards + std_rewards, color='blue', alpha=0.2, label='Standard Deviation')\n",
        "\n",
        "    plt.title('Training Progress across Seeds')\n",
        "    plt.xlabel('Frames Seen')\n",
        "    plt.ylabel('Average Reward')\n",
        "    plt.grid(True)\n",
        "    plt.legend()\n",
        "    plt.show()\n",
        "\n",
        "plot_results(all_runs_rewards, all_runs_frames)\n",
        "\n",
        "### **9. Visualize Agent Performance (GIF)**\n",
        "\n",
        "# Load the model from the first seed for visualization\n",
        "trained_model = ImpalaCnn64(1, 5).to(device)\n",
        "model_path = f\"rl_model_seed_{seeds[0]}.pth\"\n",
        "trained_model.load_state_dict(torch.load(model_path, map_location=device))\n",
        "trained_model.eval()\n",
        "\n",
        "# Create a new env for the GIF\n",
        "vis_env = gym.make(env_name, render_mode=\"rgb_array\", lap_complete_percent=0.95, continuous=False)\n",
        "frames = []\n",
        "\n",
        "obs, _ = vis_env.reset()\n",
        "done = False\n",
        "print(\"Generating GIF...\")\n",
        "\n",
        "while not done:\n",
        "    # Add the raw observation frame for the GIF\n",
        "    frames.append(obs)\n",
        "    state = state_to_tensor(obs, device).unsqueeze(0)\n",
        "\n",
        "    with torch.no_grad():\n",
        "        dist, _ = trained_model(state)\n",
        "        action = torch.argmax(dist.probs).item() # Deterministic action\n",
        "\n",
        "    obs, _, terminated, truncated, _ = vis_env.step(action)\n",
        "    done = terminated or truncated\n",
        "\n",
        "vis_env.close()\n",
        "\n",
        "# Save the collected frames as a GIF\n",
        "imageio.mimsave(\"car_racing_agent.gif\", frames, fps=30)\n",
        "print(\"GIF saved as car_racing_agent.gif\")\n",
        "\n",
        "# To display the GIF in Colab (optional)\n",
        "# from IPython.display import Image\n",
        "# Image(open('car_racing_agent.gif','rb').read())"
      ],
      "metadata": {
        "id": "uDaQ3ksDHUS6",
        "colab": {
          "base_uri": "https://localhost:8080/",
          "height": 619
        },
        "outputId": "259cef90-3f69-4d59-a685-bf90f934a03a"
      },
      "execution_count": null,
      "outputs": [
        {
          "output_type": "display_data",
          "data": {
            "text/plain": [
              "<Figure size 1200x600 with 1 Axes>"
            ],
            "image/png": "[encoded data removed]"
          },
          "metadata": {}
        },
        {
          "output_type": "stream",
          "name": "stdout",
          "text": [
            "Generating GIF...\n",
            "GIF saved as car_racing_agent.gif\n"
          ]
        }
      ]
    },
    {
      "cell_type": "code",
      "source": [
        "# import numpy as np\n",
        "# import matplotlib.pyplot as plt\n",
        "# def plot_results(all_rewards, all_frames):\n",
        "#     # Ensure all reward lists have the same length for averaging\n",
        "#     # This can happen if runs terminate at slightly different frame counts\n",
        "#     min_len = min(len(rewards) for rewards in all_rewards)\n",
        "#     rewards_trimmed = [rewards[:min_len] for rewards in all_rewards]\n",
        "#     frames = all_frames[0][:min_len]\n",
        "\n",
        "#     rewards_np = np.array(rewards_trimmed)\n",
        "\n",
        "#     # Calculate mean and standard deviation across runs\n",
        "#     mean_rewards = np.mean(rewards_np, axis=0)\n",
        "#     std_rewards = np.std(rewards_np, axis=0)\n",
        "\n",
        "#     plt.figure(figsize=(12, 6))\n",
        "#     # Plot the mean reward line\n",
        "#     plt.plot(frames, mean_rewards, label='mean reward', color='blue')\n",
        "#     # Plot the standard deviation area\n",
        "#     plt.fill_between(frames, mean_rewards - std_rewards, mean_rewards + std_rewards, color='blue', alpha=0.2, label='s.d')\n",
        "\n",
        "#     plt.title('Training Progress across Seeds')\n",
        "#     plt.xlabel('Frames Seen')\n",
        "#     plt.ylabel('Average Reward')\n",
        "#     plt.grid(True)\n",
        "#     plt.legend()\n",
        "#     plt.show()\n",
        "\n",
        "\n",
        "# all_runs_rewards = [[100,200,300],[110,190,320],[90,190,310]]\n",
        "# all_runs_frames = [[5,10,20],[5,10,20],[5,10,20]]\n",
        "# plot_results(all_runs_rewards, all_runs_frames)"
      ],
      "metadata": {
        "id": "zXwUjs06G6RL"
      },
      "execution_count": null,
      "outputs": []
    },
    {
      "cell_type": "code",
      "source": [
        "obs, _ = vis_env.reset()\n",
        "done = False\n",
        "print(\"Generating GIF...\")\n",
        "\n",
        "while not done:\n",
        "    # Add the raw observation frame for the GIF\n",
        "    frames.append(obs)\n",
        "    state = state_to_tensor(obs, device).unsqueeze(0)\n",
        "\n",
        "    with torch.no_grad():\n",
        "        dist, _ = trained_model(state)\n",
        "        action = dist.sample().item()\n",
        "\n",
        "    obs, _, terminated, truncated, _ = vis_env.step(action)\n",
        "    done = terminated or truncated\n",
        "\n",
        "vis_env.close()\n",
        "\n",
        "# Save the collected frames as a GIF\n",
        "imageio.mimsave(\"car_racing_agent.gif\", frames, fps=30)\n",
        "print(\"GIF saved as car_racing_agent.gif\")"
      ],
      "metadata": {
        "colab": {
          "base_uri": "https://localhost:8080/"
        },
        "id": "Emk_juM4RvLe",
        "outputId": "90feb2a5-19e9-4f34-eb8c-9a7031062152"
      },
      "execution_count": null,
      "outputs": [
        {
          "output_type": "stream",
          "name": "stdout",
          "text": [
            "Generating GIF...\n",
            "GIF saved as car_racing_agent.gif\n"
          ]
        }
      ]
    },
    {
      "cell_type": "code",
      "source": [],
      "metadata": {
        "id": "z3W-QLG8SOci"
      },
      "execution_count": null,
      "outputs": []
    }
  ]
}